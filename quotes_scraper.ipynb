{
  "cells": [
    {
      "cell_type": "code",
      "execution_count": 2,
      "metadata": {
        "colab": {
          "base_uri": "https://localhost:8080/"
        },
        "id": "4dS5RwT_USCW",
        "outputId": "01a99182-7f0a-4707-e358-a5fd2ca142e6"
      },
      "outputs": [
        {
          "name": "stdout",
          "output_type": "stream",
          "text": [
            "✔️ Page 1 scraped.\n",
            "✔️ Page 2 scraped.\n",
            "✔️ Page 3 scraped.\n",
            "✔️ Page 4 scraped.\n",
            "✔️ Page 5 scraped.\n",
            "✔️ Page 6 scraped.\n",
            "✔️ Page 7 scraped.\n",
            "✔️ Page 8 scraped.\n",
            "✔️ Page 9 scraped.\n",
            "✔️ Page 10 scraped.\n",
            "                                               Quote           Author  \\\n",
            "0  “The world as we have created it is a process ...  Albert Einstein   \n",
            "1  “It is our choices, Harry, that show what we t...     J.K. Rowling   \n",
            "2  “There are only two ways to live your life. On...  Albert Einstein   \n",
            "3  “The person, be it gentleman or lady, who has ...      Jane Austen   \n",
            "4  “Imperfection is beauty, madness is genius and...   Marilyn Monroe   \n",
            "\n",
            "                                           Tags  \n",
            "0        change, deep-thoughts, thinking, world  \n",
            "1                            abilities, choices  \n",
            "2  inspirational, life, live, miracle, miracles  \n",
            "3              aliteracy, books, classic, humor  \n",
            "4                    be-yourself, inspirational  \n"
          ]
        }
      ],
      "source": [
        "import requests\n",
        "from bs4 import BeautifulSoup\n",
        "import pandas as pd\n",
        "\n",
        "base_url = \"http://quotes.toscrape.com/page/{}/\"\n",
        "page = 1\n",
        "all_quotes = []\n",
        "\n",
        "while True:\n",
        "    url = base_url.format(page)\n",
        "    response = requests.get(url)\n",
        "    soup = BeautifulSoup(response.text, \"html.parser\")\n",
        "\n",
        "    quotes = soup.find_all(\"div\", class_=\"quote\")\n",
        "    if not quotes:\n",
        "        break  # Stop if there are no quotes (end of pages)\n",
        "\n",
        "    for quote in quotes:\n",
        "        text = quote.find(\"span\", class_=\"text\").text.strip()\n",
        "        author = quote.find(\"small\", class_=\"author\").text.strip()\n",
        "        tags = \", \".join([tag.text for tag in quote.find_all(\"a\", class_=\"tag\")])\n",
        "\n",
        "        all_quotes.append({\n",
        "            \"Quote\": text,\n",
        "            \"Author\": author,\n",
        "            \"Tags\": tags\n",
        "        })\n",
        "\n",
        "    print(f\"✔️ Page {page} scraped.\")\n",
        "    page += 1\n",
        "\n",
        "# Mettre dans un DataFrame\n",
        "df = pd.DataFrame(all_quotes)\n",
        "\n",
        "# Afficher les premières lignes\n",
        "print(df.head())\n",
        "#fichier csv\n",
        "df.to_csv(\"all_quotes_dataframe.csv\", index=False)\n"
      ]
    }
  ],
  "metadata": {
    "colab": {
      "provenance": []
    },
    "kernelspec": {
      "display_name": "Python 3",
      "name": "python3"
    },
    "language_info": {
      "codemirror_mode": {
        "name": "ipython",
        "version": 3
      },
      "file_extension": ".py",
      "mimetype": "text/x-python",
      "name": "python",
      "nbconvert_exporter": "python",
      "pygments_lexer": "ipython3",
      "version": "3.13.2"
    }
  },
  "nbformat": 4,
  "nbformat_minor": 0
}
